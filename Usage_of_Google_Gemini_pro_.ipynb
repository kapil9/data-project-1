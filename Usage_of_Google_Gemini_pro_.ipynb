{
  "nbformat": 4,
  "nbformat_minor": 0,
  "metadata": {
    "colab": {
      "provenance": [],
      "authorship_tag": "ABX9TyMkIv4LmW2LJMpZPTILFMZX",
      "include_colab_link": true
    },
    "kernelspec": {
      "name": "python3",
      "display_name": "Python 3"
    },
    "language_info": {
      "name": "python"
    }
  },
  "cells": [
    {
      "cell_type": "markdown",
      "metadata": {
        "id": "view-in-github",
        "colab_type": "text"
      },
      "source": [
        "<a href=\"https://colab.research.google.com/github/kapil9/data-project-1/blob/main/Usage_of_Google_Gemini_pro_.ipynb\" target=\"_parent\"><img src=\"https://colab.research.google.com/assets/colab-badge.svg\" alt=\"Open In Colab\"/></a>"
      ]
    },
    {
      "cell_type": "code",
      "execution_count": null,
      "metadata": {
        "colab": {
          "base_uri": "https://localhost:8080/"
        },
        "id": "oGY-sL9D52u5",
        "outputId": "f46e94bb-06a5-4aef-e640-fa295d2f9343"
      },
      "outputs": [
        {
          "output_type": "stream",
          "name": "stdout",
          "text": [
            "\u001b[?25l     \u001b[90m━━━━━━━━━━━━━━━━━━━━━━━━━━━━━━━━━━━━━━━━\u001b[0m \u001b[32m0.0/146.6 kB\u001b[0m \u001b[31m?\u001b[0m eta \u001b[36m-:--:--\u001b[0m\r\u001b[2K     \u001b[91m━━━━━━━━━━━\u001b[0m\u001b[90m╺\u001b[0m\u001b[90m━━━━━━━━━━━━━━━━━━━━━━━━━━━━\u001b[0m \u001b[32m41.0/146.6 kB\u001b[0m \u001b[31m1.2 MB/s\u001b[0m eta \u001b[36m0:00:01\u001b[0m\r\u001b[2K     \u001b[90m━━━━━━━━━━━━━━━━━━━━━━━━━━━━━━━━━━━━━━━━\u001b[0m \u001b[32m146.6/146.6 kB\u001b[0m \u001b[31m2.3 MB/s\u001b[0m eta \u001b[36m0:00:00\u001b[0m\n",
            "\u001b[?25h\u001b[?25l     \u001b[90m━━━━━━━━━━━━━━━━━━━━━━━━━━━━━━━━━━━━━━━━\u001b[0m \u001b[32m0.0/598.7 kB\u001b[0m \u001b[31m?\u001b[0m eta \u001b[36m-:--:--\u001b[0m\r\u001b[2K     \u001b[91m━━━━━━━━━━━━━━━━━━━\u001b[0m\u001b[90m╺\u001b[0m\u001b[90m━━━━━━━━━━━━━━━━━━━━\u001b[0m \u001b[32m286.7/598.7 kB\u001b[0m \u001b[31m8.5 MB/s\u001b[0m eta \u001b[36m0:00:01\u001b[0m\r\u001b[2K     \u001b[91m━━━━━━━━━━━━━━━━━━━━━━━━━━━━━━━━━━━━━━━\u001b[0m\u001b[91m╸\u001b[0m \u001b[32m593.9/598.7 kB\u001b[0m \u001b[31m9.2 MB/s\u001b[0m eta \u001b[36m0:00:01\u001b[0m\r\u001b[2K     \u001b[90m━━━━━━━━━━━━━━━━━━━━━━━━━━━━━━━━━━━━━━━━\u001b[0m \u001b[32m598.7/598.7 kB\u001b[0m \u001b[31m8.0 MB/s\u001b[0m eta \u001b[36m0:00:00\u001b[0m\n",
            "\u001b[?25h"
          ]
        }
      ],
      "source": [
        "!pip install -q -U google-generativeai"
      ]
    },
    {
      "cell_type": "code",
      "source": [
        "import pathlib\n",
        "import textwrap\n",
        "\n",
        "import google.generativeai as gai\n",
        "from google.colab import userdata\n",
        "\n",
        "from IPython.display import display\n",
        "from IPython.display import Markdown\n",
        "\n",
        "def to_md(text):\n",
        "  text = text.replace('*','  *')\n",
        "  return Markdown(textwrap.indent(text, '> ', predicate=lambda _: True))"
      ],
      "metadata": {
        "id": "qSWPTDxY6Sk6"
      },
      "execution_count": null,
      "outputs": []
    },
    {
      "cell_type": "code",
      "source": [
        "GOOGLE_API_KEY=userdata.get('GOOGLE_API_KEY')\n",
        "\n",
        "gai.configure(api_key=GOOGLE_API_KEY)"
      ],
      "metadata": {
        "id": "FLd4YKfh9Nkz"
      },
      "execution_count": null,
      "outputs": []
    },
    {
      "cell_type": "code",
      "source": [
        "for k in gai.list_models():\n",
        "  if 'generateContent' in k.supported_generation_methods:\n",
        "    print(k.name)"
      ],
      "metadata": {
        "colab": {
          "base_uri": "https://localhost:8080/",
          "height": 52
        },
        "id": "xGQ6Q-kB99Qi",
        "outputId": "63a94b3e-67f2-40c4-b15c-925921ab8692"
      },
      "execution_count": null,
      "outputs": [
        {
          "output_type": "stream",
          "name": "stdout",
          "text": [
            "models/gemini-pro\n",
            "models/gemini-pro-vision\n"
          ]
        }
      ]
    },
    {
      "cell_type": "code",
      "source": [
        "model = gai.GenerativeModel('gemini-pro')\n",
        "\n",
        "response = model.generate_content(\"What is the capital of Iceland?\")\n",
        "to_md(response.text)"
      ],
      "metadata": {
        "colab": {
          "base_uri": "https://localhost:8080/",
          "height": 62
        },
        "id": "XFVEKo_o_LlF",
        "outputId": "a7b6b3a6-d1b6-4bb3-cdb7-deb690a4657b"
      },
      "execution_count": null,
      "outputs": [
        {
          "output_type": "execute_result",
          "data": {
            "text/plain": [
              "<IPython.core.display.Markdown object>"
            ],
            "text/markdown": "> Reykjavík"
          },
          "metadata": {},
          "execution_count": 12
        }
      ]
    },
    {
      "cell_type": "code",
      "source": [],
      "metadata": {
        "id": "801DVgQRAzMf"
      },
      "execution_count": null,
      "outputs": []
    },
    {
      "cell_type": "code",
      "source": [
        "model = gai.GenerativeModel('gemini-pro')\n",
        "\n",
        "response = model.generate_content(\"What is game of cricket, please describe in 1000 words?\")\n",
        "to_md(response.text)"
      ],
      "metadata": {
        "colab": {
          "base_uri": "https://localhost:8080/",
          "height": 883
        },
        "outputId": "8735bc49-fdf0-4d63-891e-ab184f326145",
        "id": "6szgarDQC-Da"
      },
      "execution_count": null,
      "outputs": [
        {
          "output_type": "execute_result",
          "data": {
            "text/plain": [
              "<IPython.core.display.Markdown object>"
            ],
            "text/markdown": "> Cricket, a captivating sport played with bat and ball, has enthralled audiences for centuries with its strategic gameplay, intricate rules, and vibrant history. Originating in humble beginnings in England during the medieval era, cricket has evolved into a global phenomenon, uniting nations and fostering camaraderie across cultures.\n> \n>   *  *The Pitch and Players:  *  *\n> \n> A cricket match unfolds on a lush green oval field known as the pitch, measuring approximately 20 yards in width and 22 yards in length. Each team comprises eleven players, each with specialized roles and skills.\n> \n>   *  *Equipment:  *  *\n> \n> The game's centerpiece is the cricket ball, a hard, spherical object made of cork and covered in leather. The batsmen use willow wood bats to strike the ball, while the fielders don protective helmets and gloves to guard against swift strikes.\n> \n>   *  *Innings and Runs:  *  *\n> \n> A cricket match consists of two innings, with each team batting once. During an innings, the batsmen take turns attempting to hit the ball and score runs. Runs are tallied based on the distance the ball travels and the number of times the batsmen complete a run between the wickets – two small wooden stumps placed at either end of the pitch.\n> \n>   *  *Bowlers and Wickets:  *  *\n> \n> The opposing team's bowlers deliver the ball towards the batsmen, aiming to hit the wicket behind the batsman or induce a catch by a fielder. Dismissing a batsman is called taking a wicket, and each team's objective is to dismiss all of the opposition's batsmen within the allotted overs.\n> \n>   *  *Overs and Dismissals:  *  *\n> \n> An over consists of six deliveries bowled consecutively by the same bowler. A batsman can be dismissed in several ways, including being bowled (when the ball hits the wicket), caught (when a fielder catches the ball before it touches the ground), or run out (when a fielder throws the ball to break the wicket before the batsman completes a run).\n> \n>   *  *Fielding and Strategy:  *  *\n> \n> Fielders strategically position themselves around the pitch to catch or stop the ball, preventing the batsmen from scoring runs. Fielders can also run out batsmen by quickly retrieving the ball and hitting the wicket before the batsman reaches it.\n> \n>   *  *Winning:  *  *\n> \n> The team that scores the most runs at the end of both innings is declared the winner. In case of a tie, additional rules, such as a super over or a bowl-out, may be employed to determine the victor.\n> \n>   *  *Variations of Cricket:  *  *\n> \n> While the basic rules remain consistent, cricket has several variations, each with its unique characteristics. The most popular formats include:\n> \n>   *   *  *Test Cricket:  *  * The longest form of the game, lasting up to five days, with unlimited overs and a focus on strategic play and endurance.\n> \n>   *   *  *One-Day Cricket:  *  * A shorter format with a fixed number of overs (usually 50) and an emphasis on aggressive batting and exciting finishes.\n> \n>   *   *  *Twenty20 Cricket:  *  * The most fast-paced and dynamic format, featuring only 20 overs per side and explosive batting displays.\n> \n>   *  *Global Appeal:  *  *\n> \n> Cricket's global reach is immense, with passionate fans in countries like India, Pakistan, Australia, England, and the West Indies. International tournaments, such as the Cricket World Cup and the Ashes series, generate immense excitement and rivalry among nations.\n> \n>   *  *Cultural Significance:  *  *\n> \n> Beyond its sporting appeal, cricket holds significant cultural and social importance in many countries. It fosters community spirit, unites people from diverse backgrounds, and serves as a source of national pride.\n> \n>   *  *In conclusion,  *  * cricket stands as a timeless sport that combines athleticism, strategy, and camaraderie. Its rich history, global appeal, and cultural significance make it a cherished pastime enjoyed by millions worldwide."
          },
          "metadata": {},
          "execution_count": 13
        }
      ]
    },
    {
      "cell_type": "code",
      "source": [],
      "metadata": {
        "id": "kUpY5TU9DMOZ"
      },
      "execution_count": null,
      "outputs": []
    }
  ]
}