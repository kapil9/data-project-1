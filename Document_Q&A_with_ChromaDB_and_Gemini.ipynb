{
  "nbformat": 4,
  "nbformat_minor": 0,
  "metadata": {
    "colab": {
      "provenance": [],
      "authorship_tag": "ABX9TyMCgpBTCMZXggSJfgtIIi5z",
      "include_colab_link": true
    },
    "kernelspec": {
      "name": "python3",
      "display_name": "Python 3"
    },
    "language_info": {
      "name": "python"
    }
  },
  "cells": [
    {
      "cell_type": "markdown",
      "metadata": {
        "id": "view-in-github",
        "colab_type": "text"
      },
      "source": [
        "<a href=\"https://colab.research.google.com/github/kapil9/data-project-1/blob/main/Document_Q%26A_with_ChromaDB_and_Gemini.ipynb\" target=\"_parent\"><img src=\"https://colab.research.google.com/assets/colab-badge.svg\" alt=\"Open In Colab\"/></a>"
      ]
    },
    {
      "cell_type": "code",
      "execution_count": null,
      "metadata": {
        "id": "hmRRluN5xX5E"
      },
      "outputs": [],
      "source": [
        "!pip install -U -q google.generativeai"
      ]
    },
    {
      "cell_type": "markdown",
      "source": [
        "**Install Chromadb**"
      ],
      "metadata": {
        "id": "yTqmxmxQxsfa"
      }
    },
    {
      "cell_type": "code",
      "execution_count": null,
      "metadata": {
        "id": "sNCv-cJPLOZ2",
        "outputId": "fcc8bcb6-6632-4964-9443-758ffd160cdf",
        "colab": {
          "base_uri": "https://localhost:8080/"
        }
      },
      "outputs": [
        {
          "output_type": "stream",
          "name": "stdout",
          "text": [
            "\u001b[2K     \u001b[90m━━━━━━━━━━━━━━━━━━━━━━━━━━━━━━━━━━━━━━━━\u001b[0m \u001b[32m507.7/507.7 kB\u001b[0m \u001b[31m8.9 MB/s\u001b[0m eta \u001b[36m0:00:00\u001b[0m\n",
            "\u001b[2K     \u001b[90m━━━━━━━━━━━━━━━━━━━━━━━━━━━━━━━━━━━━━━━━\u001b[0m \u001b[32m2.4/2.4 MB\u001b[0m \u001b[31m74.3 MB/s\u001b[0m eta \u001b[36m0:00:00\u001b[0m\n",
            "\u001b[2K     \u001b[90m━━━━━━━━━━━━━━━━━━━━━━━━━━━━━━━━━━━━━━━━\u001b[0m \u001b[32m93.1/93.1 kB\u001b[0m \u001b[31m11.0 MB/s\u001b[0m eta \u001b[36m0:00:00\u001b[0m\n",
            "\u001b[2K     \u001b[90m━━━━━━━━━━━━━━━━━━━━━━━━━━━━━━━━━━━━━━━━\u001b[0m \u001b[32m59.7/59.7 kB\u001b[0m \u001b[31m6.2 MB/s\u001b[0m eta \u001b[36m0:00:00\u001b[0m\n",
            "\u001b[2K     \u001b[90m━━━━━━━━━━━━━━━━━━━━━━━━━━━━━━━━━━━━━━━━\u001b[0m \u001b[32m5.4/5.4 MB\u001b[0m \u001b[31m83.3 MB/s\u001b[0m eta \u001b[36m0:00:00\u001b[0m\n",
            "\u001b[2K     \u001b[90m━━━━━━━━━━━━━━━━━━━━━━━━━━━━━━━━━━━━━━━━\u001b[0m \u001b[32m6.4/6.4 MB\u001b[0m \u001b[31m85.6 MB/s\u001b[0m eta \u001b[36m0:00:00\u001b[0m\n",
            "\u001b[2K     \u001b[90m━━━━━━━━━━━━━━━━━━━━━━━━━━━━━━━━━━━━━━━━\u001b[0m \u001b[32m57.9/57.9 kB\u001b[0m \u001b[31m6.2 MB/s\u001b[0m eta \u001b[36m0:00:00\u001b[0m\n",
            "\u001b[2K     \u001b[90m━━━━━━━━━━━━━━━━━━━━━━━━━━━━━━━━━━━━━━━━\u001b[0m \u001b[32m105.3/105.3 kB\u001b[0m \u001b[31m12.8 MB/s\u001b[0m eta \u001b[36m0:00:00\u001b[0m\n",
            "\u001b[2K     \u001b[90m━━━━━━━━━━━━━━━━━━━━━━━━━━━━━━━━━━━━━━━━\u001b[0m \u001b[32m67.3/67.3 kB\u001b[0m \u001b[31m7.3 MB/s\u001b[0m eta \u001b[36m0:00:00\u001b[0m\n",
            "\u001b[?25h  Installing build dependencies ... \u001b[?25l\u001b[?25hdone\n",
            "  Getting requirements to build wheel ... \u001b[?25l\u001b[?25hdone\n",
            "  Preparing metadata (pyproject.toml) ... \u001b[?25l\u001b[?25hdone\n",
            "\u001b[2K     \u001b[90m━━━━━━━━━━━━━━━━━━━━━━━━━━━━━━━━━━━━━━━━\u001b[0m \u001b[32m698.9/698.9 kB\u001b[0m \u001b[31m35.5 MB/s\u001b[0m eta \u001b[36m0:00:00\u001b[0m\n",
            "\u001b[2K     \u001b[90m━━━━━━━━━━━━━━━━━━━━━━━━━━━━━━━━━━━━━━━━\u001b[0m \u001b[32m1.6/1.6 MB\u001b[0m \u001b[31m73.5 MB/s\u001b[0m eta \u001b[36m0:00:00\u001b[0m\n",
            "\u001b[2K     \u001b[90m━━━━━━━━━━━━━━━━━━━━━━━━━━━━━━━━━━━━━━━━\u001b[0m \u001b[32m72.6/72.6 kB\u001b[0m \u001b[31m9.5 MB/s\u001b[0m eta \u001b[36m0:00:00\u001b[0m\n",
            "\u001b[2K     \u001b[90m━━━━━━━━━━━━━━━━━━━━━━━━━━━━━━━━━━━━━━━━\u001b[0m \u001b[32m67.0/67.0 kB\u001b[0m \u001b[31m8.5 MB/s\u001b[0m eta \u001b[36m0:00:00\u001b[0m\n",
            "\u001b[2K     \u001b[90m━━━━━━━━━━━━━━━━━━━━━━━━━━━━━━━━━━━━━━━━\u001b[0m \u001b[32m143.8/143.8 kB\u001b[0m \u001b[31m17.8 MB/s\u001b[0m eta \u001b[36m0:00:00\u001b[0m\n",
            "\u001b[2K     \u001b[90m━━━━━━━━━━━━━━━━━━━━━━━━━━━━━━━━━━━━━━━━\u001b[0m \u001b[32m46.0/46.0 kB\u001b[0m \u001b[31m5.3 MB/s\u001b[0m eta \u001b[36m0:00:00\u001b[0m\n",
            "\u001b[2K     \u001b[90m━━━━━━━━━━━━━━━━━━━━━━━━━━━━━━━━━━━━━━━━\u001b[0m \u001b[32m50.8/50.8 kB\u001b[0m \u001b[31m6.2 MB/s\u001b[0m eta \u001b[36m0:00:00\u001b[0m\n",
            "\u001b[2K     \u001b[90m━━━━━━━━━━━━━━━━━━━━━━━━━━━━━━━━━━━━━━━━\u001b[0m \u001b[32m58.3/58.3 kB\u001b[0m \u001b[31m5.2 MB/s\u001b[0m eta \u001b[36m0:00:00\u001b[0m\n",
            "\u001b[2K     \u001b[90m━━━━━━━━━━━━━━━━━━━━━━━━━━━━━━━━━━━━━━━━\u001b[0m \u001b[32m341.4/341.4 kB\u001b[0m \u001b[31m31.7 MB/s\u001b[0m eta \u001b[36m0:00:00\u001b[0m\n",
            "\u001b[2K     \u001b[90m━━━━━━━━━━━━━━━━━━━━━━━━━━━━━━━━━━━━━━━━\u001b[0m \u001b[32m3.4/3.4 MB\u001b[0m \u001b[31m79.6 MB/s\u001b[0m eta \u001b[36m0:00:00\u001b[0m\n",
            "\u001b[2K     \u001b[90m━━━━━━━━━━━━━━━━━━━━━━━━━━━━━━━━━━━━━━━━\u001b[0m \u001b[32m1.3/1.3 MB\u001b[0m \u001b[31m68.6 MB/s\u001b[0m eta \u001b[36m0:00:00\u001b[0m\n",
            "\u001b[2K     \u001b[90m━━━━━━━━━━━━━━━━━━━━━━━━━━━━━━━━━━━━━━━━\u001b[0m \u001b[32m130.2/130.2 kB\u001b[0m \u001b[31m14.7 MB/s\u001b[0m eta \u001b[36m0:00:00\u001b[0m\n",
            "\u001b[2K     \u001b[90m━━━━━━━━━━━━━━━━━━━━━━━━━━━━━━━━━━━━━━━━\u001b[0m \u001b[32m86.8/86.8 kB\u001b[0m \u001b[31m10.8 MB/s\u001b[0m eta \u001b[36m0:00:00\u001b[0m\n",
            "\u001b[?25h  Building wheel for pypika (pyproject.toml) ... \u001b[?25l\u001b[?25hdone\n",
            "\u001b[31mERROR: pip's dependency resolver does not currently take into account all the packages that are installed. This behaviour is the source of the following dependency conflicts.\n",
            "lida 0.0.10 requires kaleido, which is not installed.\n",
            "lida 0.0.10 requires python-multipart, which is not installed.\n",
            "tensorflow-probability 0.22.0 requires typing-extensions<4.6.0, but you have typing-extensions 4.9.0 which is incompatible.\u001b[0m\u001b[31m\n",
            "\u001b[0m"
          ]
        }
      ],
      "source": [
        "!pip install -q chromadb"
      ]
    },
    {
      "cell_type": "code",
      "source": [
        "**Import modules**\n",
        "\n"
      ],
      "metadata": {
        "id": "OnEcigIsxeQv"
      },
      "execution_count": null,
      "outputs": []
    },
    {
      "cell_type": "code",
      "execution_count": null,
      "metadata": {
        "id": "muuhsDmmKdHi"
      },
      "outputs": [],
      "source": [
        "import textwrap\n",
        "import chromadb\n",
        "import numpy as np\n",
        "import pandas as pd\n",
        "\n",
        "import google.generativeai as genai\n",
        "import google.ai.generativelanguage as glm\n",
        "\n",
        "# Used to securely store your API key\n",
        "from google.colab import userdata\n",
        "\n",
        "from IPython.display import Markdown\n",
        "from chromadb import Documents, EmbeddingFunction, Embeddings"
      ]
    },
    {
      "cell_type": "code",
      "source": [
        "## import the API_KEY\n",
        "API_KEY=userdata.get('API_KEY')\n",
        "\n",
        "genai.configure(api_key=API_KEY)"
      ],
      "metadata": {
        "id": "TOcMQ7-XxeZ6"
      },
      "execution_count": null,
      "outputs": []
    },
    {
      "cell_type": "code",
      "source": [
        "##Check the embeddings models available\n",
        "for m in genai.list_models():\n",
        "  if 'embedContent' in m.supported_generation_methods:\n",
        "    print(m.name)"
      ],
      "metadata": {
        "colab": {
          "base_uri": "https://localhost:8080/",
          "height": 34
        },
        "id": "oIzMy6n8xedS",
        "outputId": "a64666ff-e66f-4038-c7d9-68846c79fbe2"
      },
      "execution_count": null,
      "outputs": [
        {
          "output_type": "stream",
          "name": "stdout",
          "text": [
            "models/embedding-001\n"
          ]
        }
      ]
    },
    {
      "cell_type": "code",
      "source": [
        "##Define your documents\n",
        "DOCUMENT1 = \"Most of the health benefits of broccoli sprouts come from their high level of glucoraphanin. Your body converts this compound into sulforaphane, which protects your cells against inflammation and a wide variety of diseases. Many studies over the years have confirmed that eating cruciferous vegetables (like broccoli, cauliflower, kale, and cabbage) raw or lightly cooked can protect against a number of cancers. Sulforaphane from these foods slows tumor growth and stops benign carcinogens from converting into active ones.The sulforaphane found in broccoli sprouts helps fight the type of bacteria that causes ulcers. One study on mice found that sulforaphane may even be more effective at treating ulcers than traditional antibiotics. A more recent study showed that these effects might be similar in humans as well. Test subjects who ate 2.5 ounces of broccoli sprouts every day showed lower levels of ulcer-causing bacteria than those who munched on alfalfa sprouts instead. They also had less inflammation.Broccoli sprouts load a lot of fiber and protein into just a few calories. They also contain anywhere from 10 to 100 times as much glucoraphanin — the nutrient that becomes sulforaphane — as the mature vegetable.\"\n",
        "DOCUMENT2 = \"Broccoli sprouts offer some distinct advantages over mature broccoli and other cruciferous vegetables, primarily due to their concentrated levels of a bioactive compound called sulforaphane. Research has shown specific benefits associated with broccoli sprouts: Higher Sulforaphane Content: Broccoli sprouts contain exceptionally high levels of sulforaphane compared to mature broccoli. Sulforaphane is a potent antioxidant and has been associated with various health benefits, including cancer prevention and detoxification. Bioavailability: The sulforaphane in broccoli sprouts is more bioavailable than that in mature broccoli. This means the body can absorb and utilize it more effectively, potentially leading to greater health benefits. Antioxidant Activity: Broccoli sprouts have a higher concentration of antioxidants compared to mature broccoli. These antioxidants help protect cells from oxidative stress and reduce the risk of chronic diseases. Potential Cancer Protection: Some research suggests that the sulforaphane in broccoli sprouts may be more effective at inhibiting the growth of cancer cells and supporting the body's natural defense mechanisms against cancer compared to mature broccoli. Detoxification Support: Sulforaphane in broccoli sprouts can enhance the body's detoxification processes by supporting the production of detoxifying enzymes, potentially aiding in the removal of harmful substances from the body. Anti-Inflammatory Effects: Compounds in broccoli sprouts have been shown to have anti-inflammatory properties, which may help reduce the risk of chronic inflammatory conditions. Concentrated Nutrients: Broccoli sprouts are a concentrated source of vitamins, minerals, and other beneficial compounds, making them a nutrient-dense addition to your diet. It's important to note that while research supports these potential advantages of broccoli sprouts, more studies are needed to fully understand their health benefits and the optimal dosage for specific conditions. Additionally, individual responses to dietary components can vary, so it's advisable to consult with a healthcare professional or nutritionist before making significant changes to your diet, especially if you are considering broccoli sprouts as a dietary supplement for a specific health condition.\"\n",
        "DOCUMENT3 = \"To view how to make broccoli sprouts at home watch you tube video: https://www.youtube.com/watch?v=ITVBlVsnGHo&t=4s. There are plenty of other material but this may be most comprehensive.\"\n",
        "DOCUMENT4 = \"Broccoli sprouts are a great source of protein, fiber, vitamins, minerals, and phytochemicals. A 3-ounce (85-gram) serving of broccoli sprouts contains: calories: 35  carbs: 5 grams Fiber: 4 grams Protein: 2 grams Fat: 0.5 grams Vitamin C: 60% of the Daily Value (DV) Vitamin A: 10% of the DV Calcium: 6% of the DV One of the key nutrients in broccoli sprouts is sulforaphane, a powerful phytochemical that contributes to many of their health benefits. To maximize the sulforaphane content in your diet, opt for organic broccoli sprout seeds.\"\n",
        "DOCUMENT5 = \"Understanding and ultimately improving a population's health rest not only on understanding this population perspective but also on understanding the ecology of health and the interconnectedness of the biological, behavioral, physical, and socioenvironmental domains. In some ways, conventional public health models (e.g., the agent–host–environment triad) have long emphasized an ecological understanding of disease prevention. Enormous gains in the control and eradication of infectious diseases rested upon a deep understanding of the ecology of specific agents and the power of environmental interventions rather than individual or behavioral interventions to control disease. For example, in areas where sanitation and water purification are poor, individual behaviors, such as hand washing and boiling of water, are emphasized to reduce the spread of disease. However, when environmental controls become feasible, it is easy to move to a more “upstream”2 intervention (like municipal water purification) to improve health. The last several decades of research have resulted in a deeper understanding not only of the physical dimensions of the environment that are toxic but also of a broad range of related conditions in the social environment that are factors in creating poor health. These social determinants challenge the discipline of public health to more fully incorporate them. Over the past decade, several models have been developed to illustrate the determinants of health and the ecological nature of health (e.g., see Dahlgren and Whitehead [1991], Evans and Stoddart [1990], and Appendix A). Many of these models have been developed in the United Kingdom, Canada, and Scandinavia, where population approaches have started to shape governmental and public health policies. The committee has built on the Dahlgren-Whitehead model—which also guided the Independent Inquiry into Inequalities in Health in the United Kingdom—modifying it to reflect special issues of relevance in the United States (see Figure 2–2). This figure serves as a useful heuristic to help us think about the multiple determinants of population health. It may, for instance, help to illustrate how the health sector, which includes governmental public health agencies and the health care delivery system, must work with other sectors of government such as education, labor, economic development, and agriculture to create “healthy” public policy. Furthermore, the governmental sector needs to work in partnership with nongovernmental sectors such as academia, the media, business, community-based organizations and communities themselves to create the intersectoral model of the public health system first alluded to in the 1988 Institute of Medicine (IOM) report and established in this report as critical to effective health action.\"\n",
        "\n",
        "documents = [DOCUMENT1, DOCUMENT2, DOCUMENT3, DOCUMENT4, DOCUMENT5]"
      ],
      "metadata": {
        "id": "Q1asj7Qrxegb"
      },
      "execution_count": null,
      "outputs": []
    },
    {
      "cell_type": "code",
      "source": [
        "##embeddings\n",
        "class GeminiEmbeddingFunction(EmbeddingFunction):\n",
        "  def __call__(self, input: Documents) -> Embeddings:\n",
        "    model = 'models/embedding-001'\n",
        "    title = \"Custom query\"\n",
        "    return genai.embed_content(model=model,\n",
        "                                content=input,\n",
        "                                task_type=\"retrieval_document\",\n",
        "                                title=title)[\"embedding\"]"
      ],
      "metadata": {
        "id": "1C-_68UUxejo"
      },
      "execution_count": null,
      "outputs": []
    },
    {
      "cell_type": "code",
      "source": [
        "def create_chroma_db(documents, name):\n",
        "  chroma_client = chromadb.Client()\n",
        "  db = chroma_client.create_collection(name=name, embedding_function=GeminiEmbeddingFunction())\n",
        "\n",
        "  for i, d in enumerate(documents):\n",
        "    db.add(\n",
        "      documents=d,\n",
        "      ids=str(i)\n",
        "    )\n",
        "  return db"
      ],
      "metadata": {
        "id": "Oe4F70X8xenS"
      },
      "execution_count": null,
      "outputs": []
    },
    {
      "cell_type": "code",
      "source": [
        "## Set up the DB\n",
        "db = create_chroma_db(documents, \"googlecarsdatabase\")"
      ],
      "metadata": {
        "id": "BcARXO1ixe6e"
      },
      "execution_count": null,
      "outputs": []
    },
    {
      "cell_type": "code",
      "source": [
        "pd.DataFrame(db.peek(5))"
      ],
      "metadata": {
        "colab": {
          "base_uri": "https://localhost:8080/",
          "height": 206
        },
        "id": "XOIXAbQ84MHl",
        "outputId": "fe658388-4fe7-4856-fe42-b95b89cc921a"
      },
      "execution_count": null,
      "outputs": [
        {
          "output_type": "execute_result",
          "data": {
            "text/plain": [
              "  ids                                         embeddings metadatas  \\\n",
              "0   0  [0.01738986000418663, -0.04047514125704765, -0...      None   \n",
              "1   1  [0.033389534801244736, -0.036278482526540756, ...      None   \n",
              "2   2  [0.03324108570814133, -0.05459016561508179, -0...      None   \n",
              "3   3  [0.02467038482427597, -0.05331683158874512, -0...      None   \n",
              "4   4  [0.006293997634202242, -0.0334198921918869, -0...      None   \n",
              "\n",
              "                                           documents  uris  data  \n",
              "0  Most of the health benefits of broccoli sprout...  None  None  \n",
              "1  Broccoli sprouts offer some distinct advantage...  None  None  \n",
              "2  To view how to make broccoli sprouts at home w...  None  None  \n",
              "3  Broccoli sprouts are a great source of protein...  None  None  \n",
              "4  Understanding and ultimately improving a popul...  None  None  "
            ],
            "text/html": [
              "\n",
              "  <div id=\"df-ead502a1-5460-4912-86e5-a288e2b06531\" class=\"colab-df-container\">\n",
              "    <div>\n",
              "<style scoped>\n",
              "    .dataframe tbody tr th:only-of-type {\n",
              "        vertical-align: middle;\n",
              "    }\n",
              "\n",
              "    .dataframe tbody tr th {\n",
              "        vertical-align: top;\n",
              "    }\n",
              "\n",
              "    .dataframe thead th {\n",
              "        text-align: right;\n",
              "    }\n",
              "</style>\n",
              "<table border=\"1\" class=\"dataframe\">\n",
              "  <thead>\n",
              "    <tr style=\"text-align: right;\">\n",
              "      <th></th>\n",
              "      <th>ids</th>\n",
              "      <th>embeddings</th>\n",
              "      <th>metadatas</th>\n",
              "      <th>documents</th>\n",
              "      <th>uris</th>\n",
              "      <th>data</th>\n",
              "    </tr>\n",
              "  </thead>\n",
              "  <tbody>\n",
              "    <tr>\n",
              "      <th>0</th>\n",
              "      <td>0</td>\n",
              "      <td>[0.01738986000418663, -0.04047514125704765, -0...</td>\n",
              "      <td>None</td>\n",
              "      <td>Most of the health benefits of broccoli sprout...</td>\n",
              "      <td>None</td>\n",
              "      <td>None</td>\n",
              "    </tr>\n",
              "    <tr>\n",
              "      <th>1</th>\n",
              "      <td>1</td>\n",
              "      <td>[0.033389534801244736, -0.036278482526540756, ...</td>\n",
              "      <td>None</td>\n",
              "      <td>Broccoli sprouts offer some distinct advantage...</td>\n",
              "      <td>None</td>\n",
              "      <td>None</td>\n",
              "    </tr>\n",
              "    <tr>\n",
              "      <th>2</th>\n",
              "      <td>2</td>\n",
              "      <td>[0.03324108570814133, -0.05459016561508179, -0...</td>\n",
              "      <td>None</td>\n",
              "      <td>To view how to make broccoli sprouts at home w...</td>\n",
              "      <td>None</td>\n",
              "      <td>None</td>\n",
              "    </tr>\n",
              "    <tr>\n",
              "      <th>3</th>\n",
              "      <td>3</td>\n",
              "      <td>[0.02467038482427597, -0.05331683158874512, -0...</td>\n",
              "      <td>None</td>\n",
              "      <td>Broccoli sprouts are a great source of protein...</td>\n",
              "      <td>None</td>\n",
              "      <td>None</td>\n",
              "    </tr>\n",
              "    <tr>\n",
              "      <th>4</th>\n",
              "      <td>4</td>\n",
              "      <td>[0.006293997634202242, -0.0334198921918869, -0...</td>\n",
              "      <td>None</td>\n",
              "      <td>Understanding and ultimately improving a popul...</td>\n",
              "      <td>None</td>\n",
              "      <td>None</td>\n",
              "    </tr>\n",
              "  </tbody>\n",
              "</table>\n",
              "</div>\n",
              "    <div class=\"colab-df-buttons\">\n",
              "\n",
              "  <div class=\"colab-df-container\">\n",
              "    <button class=\"colab-df-convert\" onclick=\"convertToInteractive('df-ead502a1-5460-4912-86e5-a288e2b06531')\"\n",
              "            title=\"Convert this dataframe to an interactive table.\"\n",
              "            style=\"display:none;\">\n",
              "\n",
              "  <svg xmlns=\"http://www.w3.org/2000/svg\" height=\"24px\" viewBox=\"0 -960 960 960\">\n",
              "    <path d=\"M120-120v-720h720v720H120Zm60-500h600v-160H180v160Zm220 220h160v-160H400v160Zm0 220h160v-160H400v160ZM180-400h160v-160H180v160Zm440 0h160v-160H620v160ZM180-180h160v-160H180v160Zm440 0h160v-160H620v160Z\"/>\n",
              "  </svg>\n",
              "    </button>\n",
              "\n",
              "  <style>\n",
              "    .colab-df-container {\n",
              "      display:flex;\n",
              "      gap: 12px;\n",
              "    }\n",
              "\n",
              "    .colab-df-convert {\n",
              "      background-color: #E8F0FE;\n",
              "      border: none;\n",
              "      border-radius: 50%;\n",
              "      cursor: pointer;\n",
              "      display: none;\n",
              "      fill: #1967D2;\n",
              "      height: 32px;\n",
              "      padding: 0 0 0 0;\n",
              "      width: 32px;\n",
              "    }\n",
              "\n",
              "    .colab-df-convert:hover {\n",
              "      background-color: #E2EBFA;\n",
              "      box-shadow: 0px 1px 2px rgba(60, 64, 67, 0.3), 0px 1px 3px 1px rgba(60, 64, 67, 0.15);\n",
              "      fill: #174EA6;\n",
              "    }\n",
              "\n",
              "    .colab-df-buttons div {\n",
              "      margin-bottom: 4px;\n",
              "    }\n",
              "\n",
              "    [theme=dark] .colab-df-convert {\n",
              "      background-color: #3B4455;\n",
              "      fill: #D2E3FC;\n",
              "    }\n",
              "\n",
              "    [theme=dark] .colab-df-convert:hover {\n",
              "      background-color: #434B5C;\n",
              "      box-shadow: 0px 1px 3px 1px rgba(0, 0, 0, 0.15);\n",
              "      filter: drop-shadow(0px 1px 2px rgba(0, 0, 0, 0.3));\n",
              "      fill: #FFFFFF;\n",
              "    }\n",
              "  </style>\n",
              "\n",
              "    <script>\n",
              "      const buttonEl =\n",
              "        document.querySelector('#df-ead502a1-5460-4912-86e5-a288e2b06531 button.colab-df-convert');\n",
              "      buttonEl.style.display =\n",
              "        google.colab.kernel.accessAllowed ? 'block' : 'none';\n",
              "\n",
              "      async function convertToInteractive(key) {\n",
              "        const element = document.querySelector('#df-ead502a1-5460-4912-86e5-a288e2b06531');\n",
              "        const dataTable =\n",
              "          await google.colab.kernel.invokeFunction('convertToInteractive',\n",
              "                                                    [key], {});\n",
              "        if (!dataTable) return;\n",
              "\n",
              "        const docLinkHtml = 'Like what you see? Visit the ' +\n",
              "          '<a target=\"_blank\" href=https://colab.research.google.com/notebooks/data_table.ipynb>data table notebook</a>'\n",
              "          + ' to learn more about interactive tables.';\n",
              "        element.innerHTML = '';\n",
              "        dataTable['output_type'] = 'display_data';\n",
              "        await google.colab.output.renderOutput(dataTable, element);\n",
              "        const docLink = document.createElement('div');\n",
              "        docLink.innerHTML = docLinkHtml;\n",
              "        element.appendChild(docLink);\n",
              "      }\n",
              "    </script>\n",
              "  </div>\n",
              "\n",
              "\n",
              "<div id=\"df-5c3426fc-8c91-47f3-8407-5a7227477277\">\n",
              "  <button class=\"colab-df-quickchart\" onclick=\"quickchart('df-5c3426fc-8c91-47f3-8407-5a7227477277')\"\n",
              "            title=\"Suggest charts\"\n",
              "            style=\"display:none;\">\n",
              "\n",
              "<svg xmlns=\"http://www.w3.org/2000/svg\" height=\"24px\"viewBox=\"0 0 24 24\"\n",
              "     width=\"24px\">\n",
              "    <g>\n",
              "        <path d=\"M19 3H5c-1.1 0-2 .9-2 2v14c0 1.1.9 2 2 2h14c1.1 0 2-.9 2-2V5c0-1.1-.9-2-2-2zM9 17H7v-7h2v7zm4 0h-2V7h2v10zm4 0h-2v-4h2v4z\"/>\n",
              "    </g>\n",
              "</svg>\n",
              "  </button>\n",
              "\n",
              "<style>\n",
              "  .colab-df-quickchart {\n",
              "      --bg-color: #E8F0FE;\n",
              "      --fill-color: #1967D2;\n",
              "      --hover-bg-color: #E2EBFA;\n",
              "      --hover-fill-color: #174EA6;\n",
              "      --disabled-fill-color: #AAA;\n",
              "      --disabled-bg-color: #DDD;\n",
              "  }\n",
              "\n",
              "  [theme=dark] .colab-df-quickchart {\n",
              "      --bg-color: #3B4455;\n",
              "      --fill-color: #D2E3FC;\n",
              "      --hover-bg-color: #434B5C;\n",
              "      --hover-fill-color: #FFFFFF;\n",
              "      --disabled-bg-color: #3B4455;\n",
              "      --disabled-fill-color: #666;\n",
              "  }\n",
              "\n",
              "  .colab-df-quickchart {\n",
              "    background-color: var(--bg-color);\n",
              "    border: none;\n",
              "    border-radius: 50%;\n",
              "    cursor: pointer;\n",
              "    display: none;\n",
              "    fill: var(--fill-color);\n",
              "    height: 32px;\n",
              "    padding: 0;\n",
              "    width: 32px;\n",
              "  }\n",
              "\n",
              "  .colab-df-quickchart:hover {\n",
              "    background-color: var(--hover-bg-color);\n",
              "    box-shadow: 0 1px 2px rgba(60, 64, 67, 0.3), 0 1px 3px 1px rgba(60, 64, 67, 0.15);\n",
              "    fill: var(--button-hover-fill-color);\n",
              "  }\n",
              "\n",
              "  .colab-df-quickchart-complete:disabled,\n",
              "  .colab-df-quickchart-complete:disabled:hover {\n",
              "    background-color: var(--disabled-bg-color);\n",
              "    fill: var(--disabled-fill-color);\n",
              "    box-shadow: none;\n",
              "  }\n",
              "\n",
              "  .colab-df-spinner {\n",
              "    border: 2px solid var(--fill-color);\n",
              "    border-color: transparent;\n",
              "    border-bottom-color: var(--fill-color);\n",
              "    animation:\n",
              "      spin 1s steps(1) infinite;\n",
              "  }\n",
              "\n",
              "  @keyframes spin {\n",
              "    0% {\n",
              "      border-color: transparent;\n",
              "      border-bottom-color: var(--fill-color);\n",
              "      border-left-color: var(--fill-color);\n",
              "    }\n",
              "    20% {\n",
              "      border-color: transparent;\n",
              "      border-left-color: var(--fill-color);\n",
              "      border-top-color: var(--fill-color);\n",
              "    }\n",
              "    30% {\n",
              "      border-color: transparent;\n",
              "      border-left-color: var(--fill-color);\n",
              "      border-top-color: var(--fill-color);\n",
              "      border-right-color: var(--fill-color);\n",
              "    }\n",
              "    40% {\n",
              "      border-color: transparent;\n",
              "      border-right-color: var(--fill-color);\n",
              "      border-top-color: var(--fill-color);\n",
              "    }\n",
              "    60% {\n",
              "      border-color: transparent;\n",
              "      border-right-color: var(--fill-color);\n",
              "    }\n",
              "    80% {\n",
              "      border-color: transparent;\n",
              "      border-right-color: var(--fill-color);\n",
              "      border-bottom-color: var(--fill-color);\n",
              "    }\n",
              "    90% {\n",
              "      border-color: transparent;\n",
              "      border-bottom-color: var(--fill-color);\n",
              "    }\n",
              "  }\n",
              "</style>\n",
              "\n",
              "  <script>\n",
              "    async function quickchart(key) {\n",
              "      const quickchartButtonEl =\n",
              "        document.querySelector('#' + key + ' button');\n",
              "      quickchartButtonEl.disabled = true;  // To prevent multiple clicks.\n",
              "      quickchartButtonEl.classList.add('colab-df-spinner');\n",
              "      try {\n",
              "        const charts = await google.colab.kernel.invokeFunction(\n",
              "            'suggestCharts', [key], {});\n",
              "      } catch (error) {\n",
              "        console.error('Error during call to suggestCharts:', error);\n",
              "      }\n",
              "      quickchartButtonEl.classList.remove('colab-df-spinner');\n",
              "      quickchartButtonEl.classList.add('colab-df-quickchart-complete');\n",
              "    }\n",
              "    (() => {\n",
              "      let quickchartButtonEl =\n",
              "        document.querySelector('#df-5c3426fc-8c91-47f3-8407-5a7227477277 button');\n",
              "      quickchartButtonEl.style.display =\n",
              "        google.colab.kernel.accessAllowed ? 'block' : 'none';\n",
              "    })();\n",
              "  </script>\n",
              "</div>\n",
              "\n",
              "    </div>\n",
              "  </div>\n"
            ]
          },
          "metadata": {},
          "execution_count": 10
        }
      ]
    },
    {
      "cell_type": "code",
      "source": [
        "def get_relevant_passage(query, db):\n",
        "  passage = db.query(query_texts=[query], n_results=1)['documents'][0][0]\n",
        "  return passage"
      ],
      "metadata": {
        "id": "vrf-g1Oo4MUZ"
      },
      "execution_count": null,
      "outputs": []
    },
    {
      "cell_type": "code",
      "source": [
        "## Perform embedding search\n",
        "passage = get_relevant_passage(\"healthy population\", db)\n",
        "Markdown(passage)"
      ],
      "metadata": {
        "colab": {
          "base_uri": "https://localhost:8080/",
          "height": 341
        },
        "id": "7nYi8fBG4hCp",
        "outputId": "1a70f8d0-e432-4903-8cac-b13a962d57fc"
      },
      "execution_count": null,
      "outputs": [
        {
          "output_type": "execute_result",
          "data": {
            "text/plain": [
              "<IPython.core.display.Markdown object>"
            ],
            "text/markdown": "Understanding and ultimately improving a population's health rest not only on understanding this population perspective but also on understanding the ecology of health and the interconnectedness of the biological, behavioral, physical, and socioenvironmental domains. In some ways, conventional public health models (e.g., the agent–host–environment triad) have long emphasized an ecological understanding of disease prevention. Enormous gains in the control and eradication of infectious diseases rested upon a deep understanding of the ecology of specific agents and the power of environmental interventions rather than individual or behavioral interventions to control disease. For example, in areas where sanitation and water purification are poor, individual behaviors, such as hand washing and boiling of water, are emphasized to reduce the spread of disease. However, when environmental controls become feasible, it is easy to move to a more “upstream”2 intervention (like municipal water purification) to improve health. The last several decades of research have resulted in a deeper understanding not only of the physical dimensions of the environment that are toxic but also of a broad range of related conditions in the social environment that are factors in creating poor health. These social determinants challenge the discipline of public health to more fully incorporate them. Over the past decade, several models have been developed to illustrate the determinants of health and the ecological nature of health (e.g., see Dahlgren and Whitehead [1991], Evans and Stoddart [1990], and Appendix A). Many of these models have been developed in the United Kingdom, Canada, and Scandinavia, where population approaches have started to shape governmental and public health policies. The committee has built on the Dahlgren-Whitehead model—which also guided the Independent Inquiry into Inequalities in Health in the United Kingdom—modifying it to reflect special issues of relevance in the United States (see Figure 2–2). This figure serves as a useful heuristic to help us think about the multiple determinants of population health. It may, for instance, help to illustrate how the health sector, which includes governmental public health agencies and the health care delivery system, must work with other sectors of government such as education, labor, economic development, and agriculture to create “healthy” public policy. Furthermore, the governmental sector needs to work in partnership with nongovernmental sectors such as academia, the media, business, community-based organizations and communities themselves to create the intersectoral model of the public health system first alluded to in the 1988 Institute of Medicine (IOM) report and established in this report as critical to effective health action."
          },
          "metadata": {},
          "execution_count": 12
        }
      ]
    },
    {
      "cell_type": "code",
      "source": [],
      "metadata": {
        "id": "0i5WoHYD4hLb"
      },
      "execution_count": null,
      "outputs": []
    },
    {
      "cell_type": "code",
      "source": [
        "## Perform embedding search\n",
        "passage = get_relevant_passage(\"making broccoli sprouts at home\", db)\n",
        "Markdown(passage)"
      ],
      "metadata": {
        "colab": {
          "base_uri": "https://localhost:8080/",
          "height": 64
        },
        "outputId": "60eb77e4-a600-4cb1-f0c1-1f1c1757b490",
        "id": "j1E3lLk142rL"
      },
      "execution_count": null,
      "outputs": [
        {
          "output_type": "execute_result",
          "data": {
            "text/plain": [
              "<IPython.core.display.Markdown object>"
            ],
            "text/markdown": "To view how to make broccoli sprouts at home watch you tube video: https://www.youtube.com/watch?v=ITVBlVsnGHo&t=4s. There are plenty of other material but this may be most comprehensive."
          },
          "metadata": {},
          "execution_count": 13
        }
      ]
    },
    {
      "cell_type": "code",
      "source": [
        "def make_prompt(query, relevant_passage):\n",
        "  escaped = relevant_passage.replace(\"'\", \"\").replace('\"', \"\").replace(\"\\n\", \" \")\n",
        "  prompt = (\"\"\"You are a helpful and informative bot that answers questions using text from the reference passage included below. \\\n",
        "  Be sure to respond in a complete sentence, being comprehensive, including all relevant background information. \\\n",
        "  However, you are talking to a non-technical audience, so be sure to break down complicated concepts and \\\n",
        "  strike a friendly and converstional tone. \\\n",
        "  If the passage is irrelevant to the answer, you may ignore it.\n",
        "  QUESTION: '{query}'\n",
        "  PASSAGE: '{relevant_passage}'\n",
        "\n",
        "    ANSWER:\n",
        "  \"\"\").format(query=query, relevant_passage=escaped)\n",
        "\n",
        "  return prompt"
      ],
      "metadata": {
        "id": "E13EhWif5EAK"
      },
      "execution_count": null,
      "outputs": []
    },
    {
      "cell_type": "code",
      "source": [
        "query = \"Is eating broccoli sprouts better or mature broccoli?\"\n",
        "prompt = make_prompt(query, passage)\n",
        "Markdown(prompt)"
      ],
      "metadata": {
        "colab": {
          "base_uri": "https://localhost:8080/",
          "height": 133
        },
        "id": "gY4jotjs5TnZ",
        "outputId": "f496fddf-939c-4c54-ed11-f9e756ef264b"
      },
      "execution_count": null,
      "outputs": [
        {
          "output_type": "execute_result",
          "data": {
            "text/plain": [
              "<IPython.core.display.Markdown object>"
            ],
            "text/markdown": "You are a helpful and informative bot that answers questions using text from the reference passage included below.   Be sure to respond in a complete sentence, being comprehensive, including all relevant background information.   However, you are talking to a non-technical audience, so be sure to break down complicated concepts and   strike a friendly and converstional tone.   If the passage is irrelevant to the answer, you may ignore it.\n  QUESTION: 'Is eating broccoli sprouts better or mature broccoli?'\n  PASSAGE: 'To view how to make broccoli sprouts at home watch you tube video: https://www.youtube.com/watch?v=ITVBlVsnGHo&t=4s. There are plenty of other material but this may be most comprehensive.'\n\n    ANSWER:\n  "
          },
          "metadata": {},
          "execution_count": 15
        }
      ]
    },
    {
      "cell_type": "code",
      "source": [
        "model = genai.GenerativeModel('gemini-pro')\n",
        "answer = model.generate_content(prompt)\n",
        "Markdown(answer.text)"
      ],
      "metadata": {
        "colab": {
          "base_uri": "https://localhost:8080/",
          "height": 64
        },
        "id": "9E5kV21N50mF",
        "outputId": "cbbdc867-730c-4ac7-8105-dbba4e6bffaf"
      },
      "execution_count": null,
      "outputs": [
        {
          "output_type": "execute_result",
          "data": {
            "text/plain": [
              "<IPython.core.display.Markdown object>"
            ],
            "text/markdown": "Unfortunately, the provided text doesn't contain any information comparing the nutritional value or health benefits of broccoli sprouts and mature broccoli, so I'm unable to answer your question."
          },
          "metadata": {},
          "execution_count": 16
        }
      ]
    }
  ]
}